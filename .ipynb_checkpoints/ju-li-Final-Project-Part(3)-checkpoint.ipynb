{
 "cells": [
  {
   "cell_type": "markdown",
   "id": "012cbc18",
   "metadata": {},
   "source": [
    "## Data Jounalism for Population in US Cities(Authored by Li Ju)"
   ]
  },
  {
   "cell_type": "markdown",
   "id": "9cc85799",
   "metadata": {},
   "source": [
    "### Data Source"
   ]
  },
  {
   "cell_type": "markdown",
   "id": "8c69ae6c",
   "metadata": {},
   "source": [
    "The link of dataset used for this project:\n",
    "https://sds-platform-private.s3-us-east-2.amazonaws.com/uploads/P1-US-Cities-Population.csv"
   ]
  },
  {
   "cell_type": "markdown",
   "id": "9dd0c6a4",
   "metadata": {},
   "source": [
    "### Data Exploration"
   ]
  },
  {
   "cell_type": "code",
   "execution_count": 191,
   "id": "7f7a96f4",
   "metadata": {},
   "outputs": [],
   "source": [
    "import pandas as pd\n",
    "import matplotlib.pyplot as plt\n",
    "import numpy as np\n",
    "import bqplot\n",
    "import ipywidgets"
   ]
  },
  {
   "cell_type": "code",
   "execution_count": 192,
   "id": "40651dd2",
   "metadata": {},
   "outputs": [],
   "source": [
    "df = pd.read_csv('P1-US-Cities-Population.csv', encoding = 'latin1')"
   ]
  },
  {
   "cell_type": "code",
   "execution_count": 193,
   "id": "5f3acc40",
   "metadata": {},
   "outputs": [
    {
     "data": {
      "text/html": [
       "<div>\n",
       "<style scoped>\n",
       "    .dataframe tbody tr th:only-of-type {\n",
       "        vertical-align: middle;\n",
       "    }\n",
       "\n",
       "    .dataframe tbody tr th {\n",
       "        vertical-align: top;\n",
       "    }\n",
       "\n",
       "    .dataframe thead th {\n",
       "        text-align: right;\n",
       "    }\n",
       "</style>\n",
       "<table border=\"1\" class=\"dataframe\">\n",
       "  <thead>\n",
       "    <tr style=\"text-align: right;\">\n",
       "      <th></th>\n",
       "      <th>2015 rank</th>\n",
       "      <th>City</th>\n",
       "      <th>State</th>\n",
       "      <th>2015 estimate</th>\n",
       "      <th>2010 Census</th>\n",
       "      <th>Change</th>\n",
       "      <th>2014 land area</th>\n",
       "      <th>2010 population density</th>\n",
       "      <th>Location</th>\n",
       "    </tr>\n",
       "  </thead>\n",
       "  <tbody>\n",
       "    <tr>\n",
       "      <th>0</th>\n",
       "      <td>1</td>\n",
       "      <td>New York</td>\n",
       "      <td>New York</td>\n",
       "      <td>8550405</td>\n",
       "      <td>8175133</td>\n",
       "      <td>0.0459</td>\n",
       "      <td>302.6 sq mi</td>\n",
       "      <td>27,012 per sq mi</td>\n",
       "      <td>40.6643°N 73.9385°W</td>\n",
       "    </tr>\n",
       "    <tr>\n",
       "      <th>1</th>\n",
       "      <td>2</td>\n",
       "      <td>Los Angeles</td>\n",
       "      <td>California</td>\n",
       "      <td>3971883</td>\n",
       "      <td>3792621</td>\n",
       "      <td>0.0473</td>\n",
       "      <td>468.7 sq mi</td>\n",
       "      <td>8,092 per sq mi</td>\n",
       "      <td>34.0194°N 118.4108°W</td>\n",
       "    </tr>\n",
       "    <tr>\n",
       "      <th>2</th>\n",
       "      <td>3</td>\n",
       "      <td>Chicago</td>\n",
       "      <td>Illinois</td>\n",
       "      <td>2720546</td>\n",
       "      <td>2695598</td>\n",
       "      <td>0.0093</td>\n",
       "      <td>227.6 sq mi</td>\n",
       "      <td>11,842 per sq mi</td>\n",
       "      <td>41.8376°N 87.6818°W</td>\n",
       "    </tr>\n",
       "    <tr>\n",
       "      <th>3</th>\n",
       "      <td>4</td>\n",
       "      <td>Houston</td>\n",
       "      <td>Texas</td>\n",
       "      <td>2296224</td>\n",
       "      <td>2100263</td>\n",
       "      <td>0.0933</td>\n",
       "      <td>599.6 sq mi</td>\n",
       "      <td>3,501 per sq mi</td>\n",
       "      <td>29.7805°N 95.3863°W</td>\n",
       "    </tr>\n",
       "    <tr>\n",
       "      <th>4</th>\n",
       "      <td>5</td>\n",
       "      <td>Philadelphia</td>\n",
       "      <td>Pennsylvania</td>\n",
       "      <td>1567442</td>\n",
       "      <td>1526006</td>\n",
       "      <td>0.0272</td>\n",
       "      <td>134.1 sq mi</td>\n",
       "      <td>11,379 per sq mi</td>\n",
       "      <td>40.0094°N 75.1333°W</td>\n",
       "    </tr>\n",
       "  </tbody>\n",
       "</table>\n",
       "</div>"
      ],
      "text/plain": [
       "   2015 rank          City         State  2015 estimate  2010 Census  Change  \\\n",
       "0          1      New York      New York        8550405      8175133  0.0459   \n",
       "1          2   Los Angeles    California        3971883      3792621  0.0473   \n",
       "2          3       Chicago      Illinois        2720546      2695598  0.0093   \n",
       "3          4       Houston         Texas        2296224      2100263  0.0933   \n",
       "4          5  Philadelphia  Pennsylvania        1567442      1526006  0.0272   \n",
       "\n",
       "  2014 land area 2010 population density              Location  \n",
       "0    302.6 sq mi        27,012 per sq mi   40.6643°N 73.9385°W  \n",
       "1    468.7 sq mi         8,092 per sq mi  34.0194°N 118.4108°W  \n",
       "2    227.6 sq mi        11,842 per sq mi   41.8376°N 87.6818°W  \n",
       "3    599.6 sq mi         3,501 per sq mi   29.7805°N 95.3863°W  \n",
       "4    134.1 sq mi        11,379 per sq mi   40.0094°N 75.1333°W  "
      ]
     },
     "execution_count": 193,
     "metadata": {},
     "output_type": "execute_result"
    }
   ],
   "source": [
    "df.head()"
   ]
  },
  {
   "cell_type": "code",
   "execution_count": 194,
   "id": "68b46d27",
   "metadata": {},
   "outputs": [
    {
     "data": {
      "text/plain": [
       "Index                       128\n",
       "2015 rank                  2432\n",
       "City                       2432\n",
       "State                      2432\n",
       "2015 estimate              2432\n",
       "2010 Census                2432\n",
       "Change                     2432\n",
       "2014 land area             2432\n",
       "2010 population density    2432\n",
       "Location                   2432\n",
       "dtype: int64"
      ]
     },
     "execution_count": 194,
     "metadata": {},
     "output_type": "execute_result"
    }
   ],
   "source": [
    "df.memory_usage()"
   ]
  },
  {
   "cell_type": "code",
   "execution_count": 195,
   "id": "c1033f17",
   "metadata": {},
   "outputs": [
    {
     "name": "stdout",
     "output_type": "stream",
     "text": [
      "<class 'pandas.core.frame.DataFrame'>\n",
      "RangeIndex: 304 entries, 0 to 303\n",
      "Data columns (total 9 columns):\n",
      " #   Column                   Non-Null Count  Dtype \n",
      "---  ------                   --------------  ----- \n",
      " 0   2015 rank                304 non-null    int64 \n",
      " 1   City                     304 non-null    object\n",
      " 2   State                    304 non-null    object\n",
      " 3   2015 estimate            304 non-null    int64 \n",
      " 4   2010 Census              304 non-null    int64 \n",
      " 5   Change                   303 non-null    object\n",
      " 6   2014 land area           304 non-null    object\n",
      " 7   2010 population density  304 non-null    object\n",
      " 8   Location                 304 non-null    object\n",
      "dtypes: int64(3), object(6)\n",
      "memory usage: 21.5+ KB\n"
     ]
    }
   ],
   "source": [
    "df.info()"
   ]
  },
  {
   "cell_type": "markdown",
   "id": "21a2d1e8",
   "metadata": {},
   "source": [
    "- The memory usage of dataset is 21.5+KB. The index uses 128 B, and other columns use 2432 B.\n",
    "- The dataset represents the population of each city in the US, including population in 2015 and 2010 and the change between two time period. Moreover, the dataset also offers information of land area, population desity and location of each city. \n",
    "- The dataset has 304 rows and 9 columns. Three columns are numercial:`2015 rank`, `2015 estimate` ,`2010 Census` and `change`. Five columns are categorical: `City`, `State`, `2014 land area`, `2010 population density` and `Location`. "
   ]
  },
  {
   "cell_type": "markdown",
   "id": "b3613bf5",
   "metadata": {},
   "source": [
    "### The Creation for Primary Interactive Dashboard"
   ]
  },
  {
   "cell_type": "code",
   "execution_count": 196,
   "id": "65dd3f10",
   "metadata": {},
   "outputs": [],
   "source": [
    "df['latitude'] = df['Location'].str.split(' ').apply(lambda x: x[0])\n",
    "df['longitude'] = df['Location'].str.split(' ').apply(lambda x: x[1])"
   ]
  },
  {
   "cell_type": "code",
   "execution_count": 197,
   "id": "8a444d42",
   "metadata": {},
   "outputs": [],
   "source": [
    "df['latitude'] = df['latitude'].apply(lambda x:x[:x.find('°N')]).astype('float')\n",
    "df['longitude'] = df['longitude'].apply(lambda x:x[:x.find('°W')]).astype('float')\n",
    "df['2010 population density'] = df['2010 population density'].apply(lambda x:x[:x.find('p')].strip().replace(',','')).astype('float')"
   ]
  },
  {
   "cell_type": "code",
   "execution_count": 198,
   "id": "b8bb1c03",
   "metadata": {},
   "outputs": [],
   "source": [
    "lat_bins = np.linspace(df['latitude'].min(),df['latitude'].max(),10)\n",
    "long_bins = np.linspace(df['longitude'].min(),df['longitude'].max(),10)\n",
    "hist2d, long_edges, lat_edges = np.histogram2d(df['longitude'], \n",
    "                                                   df['latitude'], \n",
    "                                                   weights=df['2010 population density'],\n",
    "                                                  bins = [long_bins,lat_bins])\n",
    "hist2d[hist2d <= 0] = np.nan\n",
    "hist2d = np.log10(hist2d)\n",
    "long_centers = (long_edges[:-1] + long_edges[1:]) / 2\n",
    "lat_centers = (lat_edges[:-1] + lat_edges[1:]) / 2"
   ]
  },
  {
   "cell_type": "code",
   "execution_count": 199,
   "id": "9db2f689",
   "metadata": {},
   "outputs": [],
   "source": [
    "i,j = 5,1\n",
    "\n",
    "x_scs = bqplot.LinearScale()\n",
    "y_scs = bqplot.LinearScale() \n",
    "\n",
    "x_axs = bqplot.Axis(label='2015 estimate', scale=x_scs)\n",
    "y_axs = bqplot.Axis(label='2010 Census', scale=y_scs, \n",
    "                   orientation = 'vertical')\n",
    "\n",
    "\n",
    "scatters = bqplot.Scatter(x=df['2015 estimate'][( (df['latitude'] >= lat_edges[i]) & (df['latitude'] <= lat_edges[i+1]) &\\\n",
    "                      (df['longitude']>=long_edges[j]) & (df['longitude'] <= long_edges[j+1]))], \n",
    "                         y =df['2010 Census'][( (df['latitude'] >= lat_edges[i]) & (df['latitude'] <= lat_edges[i+1]) &\\\n",
    "                      (df['longitude']>=long_edges[j]) & (df['longitude'] <= long_edges[j+1]))],\n",
    "                         scales={'x':x_scs, 'y':y_scs})\n",
    "fig1 = bqplot.Figure(marks=[scatters], axes=[x_axs,y_axs])"
   ]
  },
  {
   "cell_type": "code",
   "execution_count": 200,
   "id": "83172198",
   "metadata": {},
   "outputs": [],
   "source": [
    "col_sc = bqplot.ColorScale(scheme='RdYlGn')\n",
    "x_sc = bqplot.LinearScale() # for numerical data -- longitude\n",
    "y_sc = bqplot.LinearScale() # numerical data -- latitude\n",
    "\n",
    "\n",
    "col_ax = bqplot.ColorAxis(scale=col_sc, orientation='vertical', side='right')\n",
    "x_ax = bqplot.Axis(scale=x_sc, label='Longitude')\n",
    "y_ax = bqplot.Axis(scale=y_sc, orientation='vertical', label='Latitude')\n",
    "\n",
    "\n",
    "heat_map = bqplot.GridHeatMap(color=hist2d, \n",
    "                             row= lat_centers, column = long_centers, \n",
    "                             scales={'color':col_sc, 'row':y_sc, 'column':x_sc}, \n",
    "                             interactions={'click':'select'}, \n",
    "                             anchor_style={'fill':'blue'})\n",
    "\n",
    "def on_selected(change):\n",
    "    if len(change['owner'].selected) == 1: \n",
    "        i,j = change['owner'].selected[0] \n",
    "        scatters.x = df['2015 estimate'][( (df['latitude'] >= lat_edges[i]) & (df['latitude'] <= lat_edges[i+1]) &\\\n",
    "                      (df['longitude']>=long_edges[j]) & (df['longitude'] <= long_edges[j+1]))]\n",
    "        scatters.y = df['2010 Census'][( (df['latitude'] >= lat_edges[i]) & (df['latitude'] <= lat_edges[i+1]) &\\\n",
    "                      (df['longitude']>=long_edges[j]) & (df['longitude'] <= long_edges[j+1]))]\n",
    "\n",
    "heat_map.observe(on_selected, 'selected')\n",
    "\n",
    "fig = bqplot.Figure(marks=[heat_map], axes=[col_ax, x_ax, y_ax])"
   ]
  },
  {
   "cell_type": "markdown",
   "id": "c0805a4e",
   "metadata": {},
   "source": [
    "### The Outcome for Primary Interactive Data Dashboard"
   ]
  },
  {
   "cell_type": "markdown",
   "id": "b47b8e5f",
   "metadata": {},
   "source": [
    "###  Instructions for using the dashboard\n",
    "For the above interactive dashboard, you can use it in the following methods:\n",
    "1. If you want to know the population of cities within the region around (30°N,110°W), you can click the corresponding grid. You can tell the population density by the color of the grid(green means dense and red means sparse)\n",
    "\n",
    "2. The left and right graphs are linked, if you click the grid of region around (30°N,110°W) in the left graph, the right graph will also show the 2010 population and 2015 estimated population within this region. By the right graph, you can tell how the population of cities within a certain changed by observing how the plots scatter around the line `y=x`"
   ]
  },
  {
   "cell_type": "code",
   "execution_count": 201,
   "id": "96cc6c08",
   "metadata": {},
   "outputs": [
    {
     "data": {
      "application/vnd.jupyter.widget-view+json": {
       "model_id": "e8e322ccf72f43e8a92a2d520cdb1bb7",
       "version_major": 2,
       "version_minor": 0
      },
      "text/plain": [
       "HBox(children=(Figure(axes=[ColorAxis(orientation='vertical', scale=ColorScale(), side='right'), Axis(label='L…"
      ]
     },
     "metadata": {},
     "output_type": "display_data"
    }
   ],
   "source": [
    "fig.layout.min_width='500px'\n",
    "fig1.layout.min_width = '500px'\n",
    "figures = ipywidgets.HBox([fig, fig1])\n",
    "figures"
   ]
  },
  {
   "cell_type": "markdown",
   "id": "c350e989",
   "metadata": {},
   "source": [
    "### Contextual Data Viz(made by myself)"
   ]
  },
  {
   "cell_type": "markdown",
   "id": "ecfa18fe",
   "metadata": {},
   "source": [
    "#### Contextual Data Viz 1\n",
    "- The simple plot is shown below, I showed the average population of 46 states in 2010 and 2015. "
   ]
  },
  {
   "cell_type": "code",
   "execution_count": 202,
   "id": "330471ea",
   "metadata": {},
   "outputs": [],
   "source": [
    "state_abbr_dict = {'New York':'NY','California':'CA','Illinois':'IL','Texas':'TX','Pennsylvania':'PA',\\\n",
    "                   'Arizona':'AZ','Florida':'FL','Indiana':'IN','Ohio':'OH','North Carolina':'NC',\\\n",
    "                  'Washington':'WA','Colorado':'CO','Michigan':'MI','District of Columbia':'DC','Massachusetts':'MA',\\\n",
    "                  'Tennessee':'TN','Oregon':'OR','Oklahoma':'OK','Nevada':'NV','Maryland':'MD','Kentucky':'KY',\\\n",
    "                  'Wisconsin':'WI','New Mexico':'NM','Missouri':'MO','Georgia':'GA','Virginia':'VA','Nebraska':'NE',\\\n",
    "                  'Minnesota':'MN','Kansas':'KS','Louisiana':'LA',\"Hawai'i\":'HI','Alaska':'AK','New Jersey':'NJ',\\\n",
    "                  'Idaho':'ID','Alabama':'AL','Iowa':'IA','Arkansas':'AR','Utah':'UT','Rhode Island':'RI','South Dakota':'SD',\\\n",
    "                  'Mississippi':'MS','Connecticut':'CT','South Carolina':'SC','North Dakota':'ND','Montana':'MT','New Hampshire':'NH'}"
   ]
  },
  {
   "cell_type": "code",
   "execution_count": 203,
   "id": "3b695b79",
   "metadata": {},
   "outputs": [],
   "source": [
    "df['State_ABBR'] = df['State'].map(state_abbr_dict)"
   ]
  },
  {
   "cell_type": "code",
   "execution_count": 204,
   "id": "252406cb",
   "metadata": {},
   "outputs": [],
   "source": [
    "avg_pop_state = df.groupby('State_ABBR')[['2015 estimate','2010 Census']].mean()"
   ]
  },
  {
   "cell_type": "code",
   "execution_count": 205,
   "id": "3101917a",
   "metadata": {},
   "outputs": [
    {
     "data": {
      "image/png": "[encoded data removed]",
      "text/plain": [
       "<Figure size 864x360 with 1 Axes>"
      ]
     },
     "metadata": {
      "needs_background": "light"
     },
     "output_type": "display_data"
    }
   ],
   "source": [
    "fig = plt.figure(figsize = (12,5))\n",
    "ax = fig.add_axes([0,0,1,1])\n",
    "X_axis = np.arange(len(avg_pop_state.index))\n",
    "ax.bar(X_axis - 0.2, avg_pop_state['2010 Census'], color = 'b', width = 0.5,label = '2010 Census')\n",
    "ax.bar(X_axis + 0.2, avg_pop_state['2015 estimate'], color = 'g', width = 0.5, label = '2015 estimate')\n",
    "plt.xticks(X_axis, avg_pop_state.index)\n",
    "plt.xlabel('State Name')\n",
    "plt.ylabel('Population')\n",
    "plt.title('Population of states in 2010 and 2015')\n",
    "plt.legend()\n",
    "plt.show()"
   ]
  },
  {
   "cell_type": "markdown",
   "id": "fc8e824f",
   "metadata": {},
   "source": [
    "From the above plot, we can tell the change of average population in cities in each state from 2010 to 2015. Basically, there are no major changes, which is consistent with what we got from the above dashbaord(the points in the left part in the dashboard is closed to the line `y=x`) For some states, like DC, NY and PA, we can tell some population increae in these states."
   ]
  },
  {
   "cell_type": "markdown",
   "id": "868e400f",
   "metadata": {},
   "source": [
    "#### Contextual Data Viz 2"
   ]
  },
  {
   "cell_type": "code",
   "execution_count": 206,
   "id": "5e317db4",
   "metadata": {},
   "outputs": [],
   "source": [
    "df.loc[df['2015 rank'] <= 100,'Rank label'] = 'Top 100'\n",
    "df.loc[(df['2015 rank'] > 100) & (df['2015 rank'] <= 200),'Rank label'] = 'Middle 100'\n",
    "df.loc[df['2015 rank'] >200 ,'Rank label'] = 'Bottom 100'\n",
    "df_selected = df[(df['latitude']<55) & (df['longitude']<140)]"
   ]
  },
  {
   "cell_type": "code",
   "execution_count": 207,
   "id": "65662cde",
   "metadata": {},
   "outputs": [],
   "source": [
    "from matplotlib.lines import Line2D "
   ]
  },
  {
   "cell_type": "code",
   "execution_count": 208,
   "id": "8fd65a81",
   "metadata": {},
   "outputs": [
    {
     "data": {
      "image/png": "[encoded data removed]",
      "text/plain": [
       "<Figure size 864x432 with 1 Axes>"
      ]
     },
     "metadata": {
      "needs_background": "light"
     },
     "output_type": "display_data"
    }
   ],
   "source": [
    "colors = {'Top 100':'red', 'Middle 100':'green', 'Bottom 100':'blue'}\n",
    "fig, ax = plt.subplots(figsize=(12, 6))\n",
    "ax = plt.scatter(df_selected['longitude'],df_selected['latitude'],alpha = 1,s =10, c = df_selected['Rank label'].map(colors))\n",
    "plt.xlabel('longitude')\n",
    "plt.ylabel('latitude')\n",
    "plt.title('Cities population across latitude and longtitude in the US')\n",
    "handles = [Line2D([0], [0], marker='o', color='w', markerfacecolor=v, label=k, markersize=8) for k, v in colors.items()]\n",
    "plt.legend(title='color', handles=handles, bbox_to_anchor=(1.05, 1), loc='best')\n",
    "plt.show()\n"
   ]
  },
  {
   "cell_type": "markdown",
   "id": "a4081593",
   "metadata": {},
   "source": [
    "From this plot, we can tell the location of cities whose population rank in top 100, middle 100 and bottom 100. For example, we can find some big cities labeled with red color, like new york or LA, in east and west coast. Also, a lot of small cities labeled with blue color, are located in some \"corner\" area in the US. "
   ]
  }
 ],
 "metadata": {
  "kernelspec": {
   "display_name": "Python 3 (ipykernel)",
   "language": "python",
   "name": "python3"
  },
  "language_info": {
   "codemirror_mode": {
    "name": "ipython",
    "version": 3
   },
   "file_extension": ".py",
   "mimetype": "text/x-python",
   "name": "python",
   "nbconvert_exporter": "python",
   "pygments_lexer": "ipython3",
   "version": "3.7.10"
  }
 },
 "nbformat": 4,
 "nbformat_minor": 5
}
