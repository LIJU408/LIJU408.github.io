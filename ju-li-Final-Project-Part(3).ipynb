{
 "cells": [
  {
   "cell_type": "markdown",
   "id": "8c69ae6c",
   "metadata": {},
   "source": [
    "The link of dataset used for this project:\n",
    "https://sds-platform-private.s3-us-east-2.amazonaws.com/uploads/P1-US-Cities-Population.csv"
   ]
  },
  {
   "cell_type": "code",
   "execution_count": 354,
   "id": "d022265f",
   "metadata": {},
   "outputs": [],
   "source": [
    "import pandas as pd\n",
    "import matplotlib.pyplot as plt\n",
    "import numpy as np"
   ]
  },
  {
   "cell_type": "code",
   "execution_count": 355,
   "id": "0da22e5c",
   "metadata": {},
   "outputs": [],
   "source": [
    "df = pd.read_csv('P1-US-Cities-Population.csv', encoding = 'latin1')"
   ]
  },
  {
   "cell_type": "code",
   "execution_count": 356,
   "id": "8c7b7e0a",
   "metadata": {},
   "outputs": [],
   "source": [
    "state_abbr_dict = {'New York':'NY','California':'CA','Illinois':'IL','Texas':'TX','Pennsylvania':'PA',\\\n",
    "                   'Arizona':'AZ','Florida':'FL','Indiana':'IN','Ohio':'OH','North Carolina':'NC',\\\n",
    "                  'Washington':'WA','Colorado':'CO','Michigan':'MI','District of Columbia':'DC','Massachusetts':'MA',\\\n",
    "                  'Tennessee':'TN','Oregon':'OR','Oklahoma':'OK','Nevada':'NV','Maryland':'MD','Kentucky':'KY',\\\n",
    "                  'Wisconsin':'WI','New Mexico':'NM','Missouri':'MO','Georgia':'GA','Virginia':'VA','Nebraska':'NE',\\\n",
    "                  'Minnesota':'MN','Kansas':'KS','Louisiana':'LA',\"Hawai'i\":'HI','Alaska':'AK','New Jersey':'NJ',\\\n",
    "                  'Idaho':'ID','Alabama':'AL','Iowa':'IA','Arkansas':'AR','Utah':'UT','Rhode Island':'RI','South Dakota':'SD',\\\n",
    "                  'Mississippi':'MS','Connecticut':'CT','South Carolina':'SC','North Dakota':'ND','Montana':'MT','New Hampshire':'NH'}"
   ]
  },
  {
   "cell_type": "code",
   "execution_count": 357,
   "id": "aa4d856a",
   "metadata": {},
   "outputs": [],
   "source": [
    "df['State_ABBR'] = df['State'].map(state_abbr_dict)"
   ]
  },
  {
   "cell_type": "code",
   "execution_count": 358,
   "id": "65dd3f10",
   "metadata": {},
   "outputs": [],
   "source": [
    "df['latitude'] = df['Location'].str.split(' ').apply(lambda x: x[0])\n",
    "df['longitude'] = df['Location'].str.split(' ').apply(lambda x: x[1])"
   ]
  },
  {
   "cell_type": "code",
   "execution_count": 359,
   "id": "8a444d42",
   "metadata": {},
   "outputs": [],
   "source": [
    "df['latitude'] = df['latitude'].apply(lambda x:x[:x.find('°N')]).astype('float')\n",
    "df['longitude'] = df['longitude'].apply(lambda x:x[:x.find('°W')]).astype('float')\n",
    "df['2010 population density'] = df['2010 population density'].apply(lambda x:x[:x.find('p')].strip().replace(',','')).astype('float')"
   ]
  },
  {
   "cell_type": "code",
   "execution_count": 360,
   "id": "b8bb1c03",
   "metadata": {},
   "outputs": [],
   "source": [
    "lat_bins = np.linspace(df['latitude'].min(),df['latitude'].max(),10)\n",
    "long_bins = np.linspace(df['longitude'].min(),df['longitude'].max(),10)\n",
    "hist2d, long_edges, lat_edges = np.histogram2d(df['longitude'], \n",
    "                                                   df['latitude'], \n",
    "                                                   weights=df['2010 population density'],\n",
    "                                                  bins = [long_bins,lat_bins])\n",
    "hist2d[hist2d <= 0] = np.nan\n",
    "hist2d = np.log10(hist2d)\n",
    "long_centers = (long_edges[:-1] + long_edges[1:]) / 2\n",
    "lat_centers = (lat_edges[:-1] + lat_edges[1:]) / 2"
   ]
  },
  {
   "cell_type": "code",
   "execution_count": 361,
   "id": "9db2f689",
   "metadata": {},
   "outputs": [],
   "source": [
    "i,j = 5, 1 \n",
    "\n",
    "x_scs = bqplot.LinearScale()\n",
    "y_scs = bqplot.LinearScale() \n",
    "\n",
    "x_axs = bqplot.Axis(label='2015 estimate', scale=x_scs)\n",
    "y_axs = bqplot.Axis(label='2010 Census', scale=y_scs, \n",
    "                   orientation = 'vertical')\n",
    "\n",
    "\n",
    "scatters = bqplot.Scatter(x=df['2015 estimate'][( (df['latitude'] >= lat_edges[i]) & (df['latitude'] <= lat_edges[i+1]) &\\\n",
    "                      (df['longitude']>=long_edges[j]) & (df['longitude'] <= long_edges[j+1]))], \n",
    "                         y =df['2010 Census'][( (df['latitude'] >= lat_edges[i]) & (df['latitude'] <= lat_edges[i+1]) &\\\n",
    "                      (df['longitude']>=long_edges[j]) & (df['longitude'] <= long_edges[j+1]))],\n",
    "                         scales={'x':x_scs, 'y':y_scs})\n",
    "fig1 = bqplot.Figure(marks=[scatters], axes=[x_axs,y_axs])"
   ]
  },
  {
   "cell_type": "code",
   "execution_count": 364,
   "id": "83172198",
   "metadata": {},
   "outputs": [],
   "source": [
    "col_sc = bqplot.ColorScale(scheme='RdYlGn')\n",
    "x_sc = bqplot.LinearScale() # for numerical data -- longitude\n",
    "y_sc = bqplot.LinearScale() # numerical data -- latitude\n",
    "\n",
    "\n",
    "col_ax = bqplot.ColorAxis(scale=col_sc, orientation='vertical', side='right')\n",
    "x_ax = bqplot.Axis(scale=x_sc, label='Longitude')\n",
    "y_ax = bqplot.Axis(scale=y_sc, orientation='vertical', label='Latitude')\n",
    "\n",
    "\n",
    "heat_map = bqplot.GridHeatMap(color=hist2d, \n",
    "                             row= lat_centers, column = long_centers, \n",
    "                             scales={'color':col_sc, 'row':y_sc, 'column':x_sc}, \n",
    "                             interactions={'click':'select'}, \n",
    "                             anchor_style={'fill':'blue'})\n",
    "\n",
    "def on_selected(change):\n",
    "    if len(change['owner'].selected) == 1: \n",
    "        i,j = change['owner'].selected[0] \n",
    "        scatters.x = df['2015 estimate'][( (df['latitude'] >= lat_edges[i]) & (df['latitude'] <= lat_edges[i+1]) &\\\n",
    "                      (df['longitude']>=long_edges[j]) & (df['longitude'] <= long_edges[j+1]))]\n",
    "        scatters.y = df['2010 Census'][( (df['latitude'] >= lat_edges[i]) & (df['latitude'] <= lat_edges[i+1]) &\\\n",
    "                      (df['longitude']>=long_edges[j]) & (df['longitude'] <= long_edges[j+1]))]\n",
    "\n",
    "heat_map.observe(on_selected, 'selected')\n",
    "\n",
    "fig = bqplot.Figure(marks=[heat_map], axes=[col_ax, x_ax, y_ax])"
   ]
  },
  {
   "cell_type": "code",
   "execution_count": 365,
   "id": "96cc6c08",
   "metadata": {},
   "outputs": [
    {
     "data": {
      "application/vnd.jupyter.widget-view+json": {
       "model_id": "1822be032fde4e8ca0bf79919c4aa824",
       "version_major": 2,
       "version_minor": 0
      },
      "text/plain": [
       "HBox(children=(Figure(axes=[ColorAxis(orientation='vertical', scale=ColorScale(), side='right'), Axis(label='L…"
      ]
     },
     "metadata": {},
     "output_type": "display_data"
    }
   ],
   "source": [
    "fig.layout.min_width='500px'\n",
    "fig1.layout.min_width = '500px'\n",
    "figures = ipywidgets.HBox([fig, fig1])\n",
    "figures"
   ]
  },
  {
   "cell_type": "markdown",
   "id": "c350e989",
   "metadata": {},
   "source": [
    "For the above interactive dashboard, you can use it in the following methods:\n",
    "1. If you want to know the population of cities within the region around (30°N,110°W), you can click the corresponding grid. You can tell the population density by the color of the grid(green means dense and red means sparse)\n",
    "\n",
    "2. The left and right graphs are linked, if you click the grid of region around (30°N,110°W) in the left graph, the right graph will also show the 2010 population and 2015 estimated population within this region. By the right graph, you can tell how the population of cities within a certain changed by observing how the plots scatter around the line `y=x`"
   ]
  },
  {
   "cell_type": "markdown",
   "id": "b13a51c8",
   "metadata": {},
   "source": [
    "The dataset boosting my storytelling:\n",
    "This dataset includes city population data from 2010-2019, which have more years than the currently used. I believe more broader time range will help to explain the change of population better. The download link for this dataset is https://www2.census.gov/programs-surveys/popest/tables/2010-2019/cities/totals/SUB-IP-EST2019-ANNRNK.xlsx"
   ]
  },
  {
   "cell_type": "code",
   "execution_count": null,
   "id": "d61ac113",
   "metadata": {},
   "outputs": [],
   "source": []
  }
 ],
 "metadata": {
  "kernelspec": {
   "display_name": "Python 3 (ipykernel)",
   "language": "python",
   "name": "python3"
  },
  "language_info": {
   "codemirror_mode": {
    "name": "ipython",
    "version": 3
   },
   "file_extension": ".py",
   "mimetype": "text/x-python",
   "name": "python",
   "nbconvert_exporter": "python",
   "pygments_lexer": "ipython3",
   "version": "3.7.10"
  }
 },
 "nbformat": 4,
 "nbformat_minor": 5
}
